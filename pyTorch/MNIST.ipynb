{
 "cells": [
  {
   "cell_type": "code",
   "execution_count": 80,
   "id": "53cd1cd6-582f-409a-b382-19542cf876fa",
   "metadata": {
    "id": "53cd1cd6-582f-409a-b382-19542cf876fa"
   },
   "outputs": [],
   "source": [
    "import gzip\n",
    "import matplotlib.pyplot as plt\n",
    "import numpy as np\n",
    "import torch\n",
    "import torchvision\n",
    "\n",
    "from zipfile import ZipFile"
   ]
  },
  {
   "cell_type": "code",
   "execution_count": 81,
   "id": "07c2cfb6-66ff-4caf-aa41-56616bfa5bdd",
   "metadata": {
    "colab": {
     "base_uri": "https://localhost:8080/"
    },
    "id": "07c2cfb6-66ff-4caf-aa41-56616bfa5bdd",
    "outputId": "7aa23c52-46d9-4b01-c1d6-d045d5ed94a4"
   },
   "outputs": [
    {
     "name": "stdout",
     "output_type": "stream",
     "text": [
      "['t10k-images-idx3-ubyte.gz', 't10k-labels-idx1-ubyte.gz', 'train-images-idx3-ubyte.gz', 'train-labels-idx1-ubyte.gz']\n"
     ]
    }
   ],
   "source": [
    "with ZipFile(\"MNIST.zip\", 'r') as mnist:\n",
    "    mnist.extractall(\"\")\n",
    "    list_files = mnist.namelist()\n",
    "    print(list_files)"
   ]
  },
  {
   "cell_type": "code",
   "execution_count": 82,
   "id": "c1020a08-b227-490a-8787-9b8ae0195b2e",
   "metadata": {
    "id": "c1020a08-b227-490a-8787-9b8ae0195b2e"
   },
   "outputs": [],
   "source": [
    "def MNIST():\n",
    "    with gzip.open(\"train-images-idx3-ubyte.gz\", 'rb') as data:\n",
    "        _ = int.from_bytes(data.read(4), 'big')\n",
    "        num_images = int.from_bytes(data.read(4), 'big')\n",
    "        rows = int.from_bytes(data.read(4), 'big')\n",
    "        cols = int.from_bytes(data.read(4), 'big')\n",
    "        train_images = data.read()\n",
    "        X_train = np.frombuffer(train_images, dtype=np.uint8)\n",
    "        X_train = X_train.reshape((num_images, rows, cols))\n",
    "        \n",
    "    with gzip.open(\"train-labels-idx1-ubyte.gz\", 'rb') as data:\n",
    "        train_labels = data.read()[8:]\n",
    "        y_train = np.frombuffer(train_labels, dtype=np.uint8)\n",
    "\n",
    "    with gzip.open(\"t10k-images-idx3-ubyte.gz\", 'rb') as data:\n",
    "        _ = int.from_bytes(data.read(4), 'big')\n",
    "        num_images = int.from_bytes(data.read(4), 'big')\n",
    "        rows = int.from_bytes(data.read(4), 'big')\n",
    "        cols = int.from_bytes(data.read(4), 'big')\n",
    "        test_images = data.read()\n",
    "        X_test = np.frombuffer(test_images, dtype=np.uint8)\n",
    "        X_test = X_test.reshape((num_images, rows, cols))\n",
    "\n",
    "    with gzip.open(\"t10k-labels-idx1-ubyte.gz\", 'rb') as data:\n",
    "        test_labels = data.read()[8:]\n",
    "        y_test = np.frombuffer(test_labels, dtype=np.uint8)\n",
    "    \n",
    "    return X_train, y_train, X_test, y_test\n",
    "\n",
    "X_train, y_train, X_test, y_test = MNIST()"
   ]
  },
  {
   "cell_type": "code",
   "execution_count": 83,
   "id": "c15f6511-20ac-4a35-9bf7-a60105aedda7",
   "metadata": {
    "colab": {
     "base_uri": "https://localhost:8080/"
    },
    "id": "c15f6511-20ac-4a35-9bf7-a60105aedda7",
    "outputId": "4e4c4224-765a-4011-860c-75064a41113d"
   },
   "outputs": [
    {
     "name": "stdout",
     "output_type": "stream",
     "text": [
      "(60000, 28, 28) (60000,) (10000, 28, 28) (10000,)\n"
     ]
    }
   ],
   "source": [
    "print(X_train.shape, y_train.shape, X_test.shape, y_test.shape)"
   ]
  },
  {
   "cell_type": "code",
   "execution_count": 84,
   "id": "d022975b-98a8-4665-bf1f-070b4c202380",
   "metadata": {
    "colab": {
     "base_uri": "https://localhost:8080/"
    },
    "id": "d022975b-98a8-4665-bf1f-070b4c202380",
    "outputId": "87e3ea94-3dfd-46f5-c31d-ce0e9a994135"
   },
   "outputs": [
    {
     "name": "stderr",
     "output_type": "stream",
     "text": [
      "/usr/local/lib/python3.7/dist-packages/ipykernel_launcher.py:1: DeprecationWarning: `np.float` is a deprecated alias for the builtin `float`. To silence this warning, use `float` by itself. Doing this will not modify any behavior and is safe. If you specifically wanted the numpy scalar type, use `np.float64` here.\n",
      "Deprecated in NumPy 1.20; for more details and guidance: https://numpy.org/devdocs/release/1.20.0-notes.html#deprecations\n",
      "  \"\"\"Entry point for launching an IPython kernel.\n",
      "/usr/local/lib/python3.7/dist-packages/ipykernel_launcher.py:7: DeprecationWarning: `np.float` is a deprecated alias for the builtin `float`. To silence this warning, use `float` by itself. Doing this will not modify any behavior and is safe. If you specifically wanted the numpy scalar type, use `np.float64` here.\n",
      "Deprecated in NumPy 1.20; for more details and guidance: https://numpy.org/devdocs/release/1.20.0-notes.html#deprecations\n",
      "  import sys\n"
     ]
    }
   ],
   "source": [
    "X_validate = X_train[50000:].reshape(10000, -1).astype(np.float)/255\n",
    "y_validate = y_train[50000:].reshape(10000, 1)\n",
    "\n",
    "X_train = X_train[:50000].reshape(50000, -1).astype(np.float32)/255\n",
    "y_train = y_train[:50000].reshape(50000, 1)\n",
    "\n",
    "X_test = X_test.copy().reshape(10000, -1).astype(np.float)/255\n",
    "y_test = y_test.copy().reshape(10000, 1)"
   ]
  },
  {
   "cell_type": "code",
   "execution_count": 85,
   "id": "efd5fc8d-cbe4-4ffc-b000-e1fb6a219f09",
   "metadata": {
    "colab": {
     "base_uri": "https://localhost:8080/"
    },
    "id": "efd5fc8d-cbe4-4ffc-b000-e1fb6a219f09",
    "outputId": "f0dfdcb0-8828-45a2-d91b-74fa2f983df4"
   },
   "outputs": [
    {
     "name": "stdout",
     "output_type": "stream",
     "text": [
      "X train shape: (50000, 784)\n",
      "y train shape: (50000, 1)\n",
      "X validate shape: (10000, 784)\n",
      "y validate shape: (10000, 1)\n",
      "X test shape: (10000, 784)\n",
      "y test shape: (10000, 1)\n"
     ]
    }
   ],
   "source": [
    "print(f\"X train shape: {X_train.shape}\")\n",
    "print(f\"y train shape: {y_train.shape}\")\n",
    "print(f\"X validate shape: {X_validate.shape}\")\n",
    "print(f\"y validate shape: {y_validate.shape}\")\n",
    "print(f\"X test shape: {X_test.shape}\")\n",
    "print(f\"y test shape: {y_test.shape}\")"
   ]
  },
  {
   "cell_type": "code",
   "execution_count": 86,
   "id": "e71764a0-a03c-4b3b-8983-f2ccb44c512c",
   "metadata": {
    "colab": {
     "base_uri": "https://localhost:8080/"
    },
    "id": "e71764a0-a03c-4b3b-8983-f2ccb44c512c",
    "outputId": "9880c1d0-a409-477f-fbef-2165d07fc602"
   },
   "outputs": [
    {
     "name": "stdout",
     "output_type": "stream",
     "text": [
      "Devide: cuda\n"
     ]
    }
   ],
   "source": [
    "if(torch.cuda.is_available()):\n",
    "    device = torch.device(\"cuda\")\n",
    "else:\n",
    "    device = torch.device(\"cpu\")\n",
    "print(f\"Devide: {device}\")"
   ]
  },
  {
   "cell_type": "code",
   "execution_count": 87,
   "id": "qgyXfcTqpeZF",
   "metadata": {
    "id": "qgyXfcTqpeZF"
   },
   "outputs": [],
   "source": [
    "class model(torch.nn.Module):\n",
    "  def __init__(self):\n",
    "    super().__init__()\n",
    "    self.layers = torch.nn.Sequential(\n",
    "        torch.nn.Linear(784, 512),\n",
    "        torch.nn.ReLU(),\n",
    "        torch.nn.Linear(512, 512),\n",
    "        torch.nn.ReLU(),\n",
    "        torch.nn.Linear(512, 10)\n",
    "    )\n",
    "    self.loss = torch.nn.CrossEntropyLoss()\n",
    "    self.optimizer = torch.optim.Adam(self.parameters())\n",
    "    self.to(device)\n",
    "\n",
    "  def forward(self, X):\n",
    "    return self.layers(X)\n",
    "\n",
    "  def fit(self, X, Y):\n",
    "    self.optimizer.zero_grad()\n",
    "    y_pred = self.forward(X)\n",
    "    loss = self.loss(y_pred, Y)\n",
    "    loss.backward()\n",
    "    self.optimizer.step()\n",
    "    return loss.item()\n",
    "\n",
    "  def predict(self, X):\n",
    "    with torch.no_grad():\n",
    "      return torch.argmax(self.forward(X), dim=1)"
   ]
  },
  {
   "cell_type": "markdown",
   "id": "t9rpHV69kQ5k",
   "metadata": {
    "id": "t9rpHV69kQ5k"
   },
   "source": [
    "#TEST 1"
   ]
  },
  {
   "cell_type": "code",
   "execution_count": 9,
   "id": "5gFMaJVVDlMP",
   "metadata": {
    "id": "5gFMaJVVDlMP"
   },
   "outputs": [],
   "source": [
    "transform = torchvision.transforms.Compose([\n",
    "    torchvision.transforms.ToTensor(),\n",
    "    torchvision.transforms.Lambda(lambda image: image.view(784))\n",
    "])\n",
    "\n",
    "data_train = torchvision.datasets.MNIST(root=\"./\", train=True, transform=transform)\n",
    "data_test = torchvision.datasets.MNIST(root=\"./\", train=False, transform=transform)\n",
    "\n",
    "dataloader_train = torch.utils.data.DataLoader(data_train, batch_size=16, shuffle=True)\n",
    "dataloader_test = torch.utils.data.DataLoader(data_test, batch_size=16, shuffle=True)"
   ]
  },
  {
   "cell_type": "code",
   "execution_count": 11,
   "id": "GXHNLB1mLTwX",
   "metadata": {
    "colab": {
     "base_uri": "https://localhost:8080/"
    },
    "id": "GXHNLB1mLTwX",
    "outputId": "744191ba-1c81-44df-9255-12c412dbda49"
   },
   "outputs": [
    {
     "name": "stdout",
     "output_type": "stream",
     "text": [
      "Epoch 1: 0.1948\n",
      "Epoch 2: 0.0885\n",
      "Epoch 3: 0.0620\n",
      "Epoch 4: 0.0490\n",
      "Epoch 5: 0.0410\n"
     ]
    }
   ],
   "source": [
    "mnist_model = model()\n",
    "\n",
    "epochs = 5\n",
    "for i in range(1, epochs+1):\n",
    "  total_loss = 0\n",
    "  for xs, ys in dataloader_train:\n",
    "    xs, ys = xs.to(device), ys.to(device)\n",
    "    total_loss += mnist_model.fit(xs, ys)\n",
    "  total_loss /= len(dataloader_train)\n",
    "  print(f\"Epoch {i}: {total_loss:.4f}\")"
   ]
  },
  {
   "cell_type": "code",
   "execution_count": 13,
   "id": "1oft7l_okUh0",
   "metadata": {
    "colab": {
     "base_uri": "https://localhost:8080/"
    },
    "id": "1oft7l_okUh0",
    "outputId": "1789c301-5304-4436-8985-37e33074a7c0"
   },
   "outputs": [
    {
     "name": "stdout",
     "output_type": "stream",
     "text": [
      "Accuracy: 0.9763999581336975\n"
     ]
    }
   ],
   "source": [
    "correct = 0\n",
    "for xs, ys in dataloader_test:\n",
    "  xs, ys = xs.to(device), ys.to(device)\n",
    "  y_pred = mnist_model.predict(xs)\n",
    "  correct += (ys == y_pred).sum()\n",
    "acc = correct/(len(dataloader_test)*16)\n",
    "print(f\"Accuracy: {acc}\")"
   ]
  },
  {
   "cell_type": "markdown",
   "id": "iaoyP9PEkMzc",
   "metadata": {
    "id": "iaoyP9PEkMzc"
   },
   "source": [
    "##TEST 2"
   ]
  },
  {
   "cell_type": "code",
   "execution_count": 88,
   "id": "OCZ-mTkFRjnz",
   "metadata": {
    "id": "OCZ-mTkFRjnz"
   },
   "outputs": [],
   "source": [
    "X_train = torch.tensor(X_train.copy())\n",
    "y_train = (torch.tensor(np.squeeze(y_train.copy()))).to(dtype=torch.long)\n",
    "\n",
    "X_validate = (torch.tensor(X_validate.copy())).to(dtype=torch.float32)\n",
    "y_validate = (torch.tensor(np.squeeze(y_validate.copy()))).to(dtype=torch.long)\n",
    "\n",
    "X_test = (torch.tensor(X_test.copy())).to(dtype=torch.float32)\n",
    "y_test = (torch.tensor(np.squeeze(y_test.copy()))).to(dtype=torch.long)"
   ]
  },
  {
   "cell_type": "code",
   "execution_count": 89,
   "id": "QZbjgEiSLHwg",
   "metadata": {
    "id": "QZbjgEiSLHwg"
   },
   "outputs": [],
   "source": [
    "Xy_train = torch.utils.data.TensorDataset(X_train, y_train)\n",
    "Xy_validate = torch.utils.data.TensorDataset(X_validate, y_validate)\n",
    "Xy_test = torch.utils.data.TensorDataset(X_test, y_test)\n",
    "\n",
    "dataloader_Xy_train = torch.utils.data.DataLoader(Xy_train, batch_size=16, shuffle=True)\n",
    "dataloader_Xy_validate = torch.utils.data.DataLoader(Xy_validate, batch_size=16, shuffle=True)\n",
    "dataloader_Xy_test = torch.utils.data.DataLoader(Xy_test, batch_size=16, shuffle=True)"
   ]
  },
  {
   "cell_type": "code",
   "execution_count": 90,
   "id": "cYn7QQ_N4SPi",
   "metadata": {
    "colab": {
     "base_uri": "https://localhost:8080/"
    },
    "id": "cYn7QQ_N4SPi",
    "outputId": "fd9b720e-cd1a-4bd8-9fd0-e9cb52eafd74"
   },
   "outputs": [
    {
     "name": "stdout",
     "output_type": "stream",
     "text": [
      "Epoch 1: 0.0121\n",
      "Epoch 2: 0.0127\n",
      "Epoch 3: 0.0131\n",
      "Epoch 4: 0.0132\n",
      "Epoch 5: 0.0116\n"
     ]
    }
   ],
   "source": [
    "epochs = 5\n",
    "for i in range(1, epochs+1):\n",
    "  total_loss = 0\n",
    "  for xs, ys in dataloader_Xy_train:\n",
    "    xs, ys = xs.to(device), ys.to(device)\n",
    "    total_loss += mnist_model.fit(xs, ys)\n",
    "  total_loss /= len(dataloader_train)\n",
    "  print(f\"Epoch {i}: {total_loss:.4f}\")"
   ]
  },
  {
   "cell_type": "code",
   "execution_count": 91,
   "id": "NmCVNepRq06y",
   "metadata": {
    "colab": {
     "base_uri": "https://localhost:8080/"
    },
    "id": "NmCVNepRq06y",
    "outputId": "cc4cef01-5819-4c33-af56-e22fbfa27e06"
   },
   "outputs": [
    {
     "name": "stdout",
     "output_type": "stream",
     "text": [
      "Accuracy: 0.9875999689102173\n"
     ]
    }
   ],
   "source": [
    "correct = 0\n",
    "for xv, yv in dataloader_Xy_validate:\n",
    "  xv, yv = xv.to(device), yv.to(device)\n",
    "  y_pred = mnist_model.predict(xv)\n",
    "  correct += (yv == y_pred).sum()\n",
    "acc = correct/(len(dataloader_test)*16)\n",
    "print(f\"Accuracy: {acc}\")"
   ]
  },
  {
   "cell_type": "code",
   "execution_count": 92,
   "id": "-LNqqxgowTs7",
   "metadata": {
    "colab": {
     "base_uri": "https://localhost:8080/"
    },
    "id": "-LNqqxgowTs7",
    "outputId": "7b0f4f1e-76ec-4f98-f6b6-932e90c2a10c"
   },
   "outputs": [
    {
     "name": "stdout",
     "output_type": "stream",
     "text": [
      "Prediction: tensor([8, 1, 7, 3, 9, 0, 9, 4, 9, 7, 7, 6, 6, 3, 4, 4], device='cuda:0')\n",
      "True:       tensor([8, 1, 7, 3, 9, 0, 9, 4, 9, 7, 7, 6, 6, 3, 4, 4], device='cuda:0')\n"
     ]
    }
   ],
   "source": [
    "for xt, yt in dataloader_Xy_test:\n",
    "  xt, yt = xt.to(device), yt.to(device)\n",
    "  print(f\"Prediction: {mnist_model.predict(xt)}\")\n",
    "  print(f\"True:       {yt}\")\n",
    "  break"
   ]
  }
 ],
 "metadata": {
  "accelerator": "GPU",
  "colab": {
   "collapsed_sections": [],
   "provenance": []
  },
  "kernelspec": {
   "display_name": "Python 3 (ipykernel)",
   "language": "python",
   "name": "python3"
  },
  "language_info": {
   "codemirror_mode": {
    "name": "ipython",
    "version": 3
   },
   "file_extension": ".py",
   "mimetype": "text/x-python",
   "name": "python",
   "nbconvert_exporter": "python",
   "pygments_lexer": "ipython3",
   "version": "3.8.13"
  }
 },
 "nbformat": 4,
 "nbformat_minor": 5
}
