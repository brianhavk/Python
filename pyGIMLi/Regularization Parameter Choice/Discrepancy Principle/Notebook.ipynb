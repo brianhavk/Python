{
 "cells": [
  {
   "cell_type": "code",
   "execution_count": 5,
   "id": "e4bfcaf2-57af-4bf9-9669-f06ca125d370",
   "metadata": {},
   "outputs": [],
   "source": [
    "import numpy as np\n",
    "import pygimli as pg"
   ]
  },
  {
   "cell_type": "code",
   "execution_count": 6,
   "id": "2328828f-edf3-4b22-a292-b69f925278bb",
   "metadata": {},
   "outputs": [],
   "source": [
    "dataset = pg.physics.ert.load(\"simple.dat\")\n",
    "\n",
    "ERTmanager = pg.physics.ert.ERTManager(dataset, verbose=True)\n",
    "err = np.array(dataset[\"err\"])\n",
    "err_SD = np.std(err)"
   ]
  },
  {
   "cell_type": "code",
   "execution_count": null,
   "id": "b858f926-fa48-4918-a5e7-1ec7abe64752",
   "metadata": {},
   "outputs": [],
   "source": []
  }
 ],
 "metadata": {
  "kernelspec": {
   "display_name": "Python 3 (ipykernel)",
   "language": "python",
   "name": "python3"
  },
  "language_info": {
   "codemirror_mode": {
    "name": "ipython",
    "version": 3
   },
   "file_extension": ".py",
   "mimetype": "text/x-python",
   "name": "python",
   "nbconvert_exporter": "python",
   "pygments_lexer": "ipython3",
   "version": "3.8.13"
  }
 },
 "nbformat": 4,
 "nbformat_minor": 5
}
