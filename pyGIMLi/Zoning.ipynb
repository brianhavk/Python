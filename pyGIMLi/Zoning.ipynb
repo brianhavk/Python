{
 "cells": [
  {
   "cell_type": "code",
   "execution_count": 9,
   "id": "bce54c82",
   "metadata": {},
   "outputs": [],
   "source": [
    "import pygimli as pg\n",
    "import numpy as np\n",
    "\n",
    "data = pg.load('Linea-3 (Resistance of unified data format).dat')\n",
    "\n",
    "a = np.array(data['a'])\n",
    "b = np.array(data['b'])\n",
    "m = np.array(data['m'])\n",
    "n = np.array(data['n'])\n",
    "err = np.array(data['err'])\n",
    "i = np.array(data['i'])\n",
    "ip = np.array(data['ip'])\n",
    "ip1 = np.array(data['ip1'])\n",
    "ip2 = np.array(data['ip2'])\n",
    "ip3 = np.array(data['ip3'])\n",
    "ip4 = np.array(data['ip4'])\n",
    "ip5 = np.array(data['ip5'])\n",
    "ip6 = np.array(data['ip6'])\n",
    "ip7 = np.array(data['ip7'])\n",
    "ip8 = np.array(data['ip8'])\n",
    "iperr = np.array(data['iperr'])\n",
    "k = np.array(data['k'])\n",
    "r = np.array(data['r'])\n",
    "rhoa = np.array(data['rhoa'])\n",
    "u = np.array(data['u'])\n",
    "valid = np.array(data['valid'])\n",
    "\n",
    "Snrs = np.array(data.sensorPositions()); Snrs = Snrs[:,0]"
   ]
  },
  {
   "cell_type": "code",
   "execution_count": 13,
   "id": "e847d9d5",
   "metadata": {},
   "outputs": [
    {
     "name": "stdout",
     "output_type": "stream",
     "text": [
      "[ 2  3  4  4  4  5  5  5  6  6  6  6  6  7  7  7  7  7  8  8  8  8  8  8\n",
      "  8  9  9  9  9  9  9  9 10 10 10 10 10 10 10 11 11 11 11 11 11 11 12 12\n",
      " 12 12 12 12 12 12 12 13 13 13 13 13 13 13 13 13 14 14 14 14 14 14 14 14\n",
      " 14 15 15 15 15 15 15 15 15 15 16 16 16 16 16 16 16 16 16 16 17 17 17 17\n",
      " 17 17 17 17 17 17 18 18 18 18 18 18 18 18 18 18 18 19 19 19 19 19 19 19\n",
      " 19 19 19 19 20 20 20 20 20 20 20 20 20 20 20 21 21 21 21 21 21 21 21 21\n",
      " 21 21 22 22 22 22 22 22 22 22 22 22 22 23 23 23 23 23 23 23 23 23 23 23\n",
      " 24 24 24 24 24 24 24 24 24 24 24 24 25 25 25 25 25 25 25 25 25 25 25 25\n",
      " 26 26 26 26 26 26 26 26 26 26 26 26 27 27 27 27 27 27 27 27 27 27 27 27\n",
      " 28 28 28 28 28 28 28 28 28 28 28 28 29 29 29 29 29 29 29 29 29 29 29 29\n",
      " 30 30 30 30 30 30 30 30 30 30 30 30 31 31 31 31 31 31 31 31 31 31 31 31\n",
      " 32 32 32 32 32 32 32 32 32 32 32 32 33 33 33 33 33 33 33 33 33 33 33 33\n",
      " 34 34 34 34 34 34 34 34 34 34 34 34 35 35 35 35 35 35 35 35 35 35 35 35\n",
      " 36 36 36 36 36 36 36 36 36 36 36 36 37 37 37 37 37 37 37 37 37 37 37 37\n",
      " 38 38 38 38 38 38 38 38 39 39 39 39  3  4  5  5  6  6  6  7  7  7  7  8\n",
      "  9  8  8  8  9 10  9  9  9  9 10 10 11 10 10 10 10 11 11 12 11 11 11 11\n",
      " 12 12 13 12 12 12 12 13 13 14 13 13 13 13 14 14 14 15 15 14 14 14 14 15\n",
      " 15 15 16 16 15 15 15 15 16 16 16 17 17 16 16 16 16 17 17 17 18 18 17 17\n",
      " 17 17 18 18 18 18 19 19 18 18 18 18 19 19 19 19 20 20 19 19 19 19 20 20\n",
      " 20 20 21 21 21 20 20 20 20 21 21 21 21 22 22 22 21 21 21 21 22 22 22 22\n",
      " 23 23 23 22 22 22 22 23 23 23 23 24 24 24 23 23 23 23 24 24 24 24 25 25\n",
      " 25 24 24 24 24 25 25 25 25 26 26 26 25 25 25 25 26 26 26 26 27 27 27 27\n",
      " 26 26 26 26 27 27 27 27 28 28 28 28 27 27 27 27 28 28 28 28 29 29 29 29\n",
      " 28 28 28 28 29 29 29 29 30 30 30 30 29 29 29 29 30 30 30 30 31 31 31 31\n",
      " 30 30 30 30 31 31 31 31 32 32 32 32 31 31 31 31 32 32 32 32 33 33 33 33\n",
      " 32 32 32 32 33 33 33 33 34 34 34 34 33 33 33 33 34 34 34 34 35 35 35 35\n",
      " 34 34 34 34 35 35 35 35 36 36 36 36 35 35 35 35 36 36 36 36 37 37 37 37\n",
      " 36 36 36 36 37 37 37 37 38 38 38 38 37 37 37 37 38 38 38 38 39 39 39 39\n",
      " 38 38 38 38 39 39 39 39 40 40 40 40 39 39 39 39 40 40 40 40 40 40 40 40]\n"
     ]
    }
   ],
   "source": [
    "c = np.concatenate((a, b), axis=0)\n",
    "print(c)"
   ]
  },
  {
   "cell_type": "code",
   "execution_count": null,
   "id": "a5dda291",
   "metadata": {},
   "outputs": [],
   "source": []
  }
 ],
 "metadata": {
  "kernelspec": {
   "display_name": "Python 3 (ipykernel)",
   "language": "python",
   "name": "python3"
  },
  "language_info": {
   "codemirror_mode": {
    "name": "ipython",
    "version": 3
   },
   "file_extension": ".py",
   "mimetype": "text/x-python",
   "name": "python",
   "nbconvert_exporter": "python",
   "pygments_lexer": "ipython3",
   "version": "3.8.13"
  }
 },
 "nbformat": 4,
 "nbformat_minor": 5
}
